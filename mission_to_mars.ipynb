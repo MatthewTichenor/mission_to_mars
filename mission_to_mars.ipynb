{
 "cells": [
  {
   "cell_type": "code",
   "execution_count": 1,
   "metadata": {},
   "outputs": [],
   "source": [
    "from splinter import Browser\n",
    "from bs4 import BeautifulSoup\n",
    "import requests\n",
    "import pandas as pd"
   ]
  },
  {
   "cell_type": "markdown",
   "metadata": {},
   "source": [
    "# NASA Mars News"
   ]
  },
  {
   "cell_type": "code",
   "execution_count": 2,
   "metadata": {},
   "outputs": [
    {
     "name": "stdout",
     "output_type": "stream",
     "text": [
      "NASA's Opportunity Rover Mission on Mars Comes to End\n",
      "NASA's Opportunity Mars rover mission is complete after 15 years on Mars. Opportunity's record-breaking exploration laid the groundwork for future missions to the Red Planet.\n"
     ]
    }
   ],
   "source": [
    "#Get the info from the NASA News Webpage\n",
    "url = \"https://mars.nasa.gov/news/?page=0&per_page=40&order=publish_date+desc%2Ccreated_at+desc&search=&category=19%2C165%2C184%2C204&blank_scope=Latest\"\n",
    "response = requests.get(url)\n",
    "bsoup = BeautifulSoup(response.text, \"html.parser\")\n",
    "\n",
    "#news_title = bsoup.find(\"div\", class_=\"content_title\")[\"target\":\"_self\"].text.strip()\n",
    "#news_p = bsoup.find(\"div\", class_=\"image_and_description_container\").text.strip()\n",
    "\n",
    "news_title = bsoup.find(\"div\", class_=\"content_title\").text.strip()\n",
    "news_p = bsoup.find(\"div\", class_=\"image_and_description_container\").text.strip()\n",
    "\n",
    "print(news_title)\n",
    "print(news_p)"
   ]
  },
  {
   "cell_type": "markdown",
   "metadata": {},
   "source": [
    "# JPL Mars Space Images - Featured Image"
   ]
  },
  {
   "cell_type": "code",
   "execution_count": 3,
   "metadata": {},
   "outputs": [],
   "source": [
    "# GEt the featured image of Jet propulsion Lab\n",
    "executable_path = {\"executable_path\": \"chromedriver.exe\"}\n",
    "browser = Browser(\"chrome\", **executable_path, headless=True)\n",
    "url = \"https://www.jpl.nasa.gov/spaceimages/?search=&category=Mars\"\n",
    "browser.visit(url)\n"
   ]
  },
  {
   "cell_type": "code",
   "execution_count": 4,
   "metadata": {},
   "outputs": [
    {
     "name": "stdout",
     "output_type": "stream",
     "text": [
      "https://www.jpl.nasa.gov/spaceimages/images/wallpaper/PIA08003-1920x1200.jpg\n"
     ]
    }
   ],
   "source": [
    "#Using soup to get the image link\n",
    "html = browser.html\n",
    "bsoup = BeautifulSoup(html, \"html.parser\")\n",
    "image = bsoup.find(\"article\", class_=\"carousel_item\")\n",
    "featured_image_url = \"https://www.jpl.nasa.gov\" + image[\"style\"][23:75]\n",
    "print(featured_image_url)"
   ]
  },
  {
   "cell_type": "markdown",
   "metadata": {},
   "source": [
    "# Mars Weather Twitter"
   ]
  },
  {
   "cell_type": "code",
   "execution_count": 32,
   "metadata": {},
   "outputs": [
    {
     "name": "stdout",
     "output_type": "stream",
     "text": [
      "InSight sol 97 (2019-03-05) low -95.3ºC (-139.6ºF) high -14.8ºC (5.3ºF)\n",
      "winds from the SW at 4.9 m/s (10.9 mph) gusting to 12.9 m/s (28.9 mph)\n",
      "pressure at 7.20 hPapic.twitter.com/Q9QivIo4ls\n"
     ]
    }
   ],
   "source": [
    "#Get the info from twitter\n",
    "url = \"https://twitter.com/marswxreport?lang=en\"\n",
    "response = requests.get(url)\n",
    "bsoup = BeautifulSoup(response.text, \"html.parser\")\n",
    "\n",
    "mars_weather = bsoup.find(\"div\", class_=\"js-tweet-text-container\").text.strip()\n",
    "\n",
    "\n",
    "print(mars_weather)"
   ]
  },
  {
   "cell_type": "code",
   "execution_count": null,
   "metadata": {},
   "outputs": [],
   "source": []
  },
  {
   "cell_type": "markdown",
   "metadata": {},
   "source": [
    "# Mars Facts"
   ]
  },
  {
   "cell_type": "code",
   "execution_count": 29,
   "metadata": {},
   "outputs": [
    {
     "data": {
      "text/plain": [
       "{'Facts': ['Equatorial Diameter:',\n",
       "  'Polar Diameter:',\n",
       "  'Mass:',\n",
       "  'Moons:',\n",
       "  'Orbit Distance:',\n",
       "  'Orbit Period:',\n",
       "  'Surface Temperature:',\n",
       "  'First Record:',\n",
       "  'Recorded By:'],\n",
       " 'Answers': ['6,792 km',\n",
       "  '6,752 km',\n",
       "  '6.42 x 10^23 kg (10.7% Earth)',\n",
       "  '2 (Phobos & Deimos)',\n",
       "  '227,943,824 km (1.52 AU)',\n",
       "  '687 days (1.9 years)',\n",
       "  '-153 to 20 °C',\n",
       "  '2nd millennium BC',\n",
       "  'Egyptian astronomers']}"
      ]
     },
     "execution_count": 29,
     "metadata": {},
     "output_type": "execute_result"
    }
   ],
   "source": [
    "url = \"https://space-facts.com/mars/\"\n",
    "table = pd.read_html(url)\n",
    "#table\n",
    "df = table[0]\n",
    "df.columns = [\"Facts\", \"Answers\"]\n",
    "df.head(20)\n",
    "dictionary = df.to_dict('list')\n",
    "dictionary = {str(key): value for key, value in  dictionary.items()}\n",
    "dictionary"
   ]
  },
  {
   "cell_type": "markdown",
   "metadata": {},
   "source": [
    "# Mars Hemispheres"
   ]
  },
  {
   "cell_type": "code",
   "execution_count": 23,
   "metadata": {},
   "outputs": [
    {
     "data": {
      "text/plain": [
       "[{'title': 'Cerberus Hemisphere Enhanced',\n",
       "  'img_url': 'http://astropedia.astrogeology.usgs.gov/download/Mars/Viking/cerberus_enhanced.tif/full.jpg'},\n",
       " {'title': 'Schiaparelli Hemisphere Enhanced',\n",
       "  'img_url': 'http://astropedia.astrogeology.usgs.gov/download/Mars/Viking/schiaparelli_enhanced.tif/full.jpg'},\n",
       " {'title': 'Syrtis Major Hemisphere Enhanced',\n",
       "  'img_url': 'http://astropedia.astrogeology.usgs.gov/download/Mars/Viking/syrtis_major_enhanced.tif/full.jpg'},\n",
       " {'title': 'Valles Marineris Hemisphere Enhanced',\n",
       "  'img_url': 'http://astropedia.astrogeology.usgs.gov/download/Mars/Viking/valles_marineris_enhanced.tif/full.jpg'}]"
      ]
     },
     "execution_count": 23,
     "metadata": {},
     "output_type": "execute_result"
    }
   ],
   "source": [
    "# GEt the images from the hemispheres -.-\n",
    "executable_path = {\"executable_path\": \"chromedriver.exe\"}\n",
    "browser = Browser(\"chrome\", **executable_path, headless=True)\n",
    "url = \"https://astrogeology.usgs.gov/search/results?q=hemisphere+enhanced&k1=target&v1=Mars\"\n",
    "browser.visit(url)\n",
    "html = browser.html\n",
    "bsoup = BeautifulSoup(html, 'html.parser')\n",
    "hemisphere_image_urls = []\n",
    "dict = {}\n",
    "url = 'https://astrogeology.usgs.gov'\n",
    "\n",
    "image = bsoup.find_all('a', class_='itemLink product-item')\n",
    "for i in image:\n",
    "    if(i.get_text() != ''):\n",
    "\n",
    "        browser.visit(url + i['href'])    \n",
    "        \n",
    "        html = browser.html\n",
    "        bsoup = BeautifulSoup(html, 'html.parser')\n",
    "        \n",
    "        componentlnk = bsoup.find('div', class_='downloads').find('a')['href']\n",
    "        dict = {'title': i.get_text(),\n",
    "                'img_url' : componentlnk}        \n",
    "\n",
    "        hemisphere_image_urls.append(dict)\n",
    "\n",
    "        \n",
    "        browser.back()\n",
    "hemisphere_image_urls"
   ]
  },
  {
   "cell_type": "code",
   "execution_count": null,
   "metadata": {},
   "outputs": [],
   "source": []
  },
  {
   "cell_type": "code",
   "execution_count": null,
   "metadata": {},
   "outputs": [],
   "source": []
  }
 ],
 "metadata": {
  "kernelspec": {
   "display_name": "Python 3",
   "language": "python",
   "name": "python3"
  },
  "language_info": {
   "codemirror_mode": {
    "name": "ipython",
    "version": 3
   },
   "file_extension": ".py",
   "mimetype": "text/x-python",
   "name": "python",
   "nbconvert_exporter": "python",
   "pygments_lexer": "ipython3",
   "version": "3.7.1"
  }
 },
 "nbformat": 4,
 "nbformat_minor": 2
}
